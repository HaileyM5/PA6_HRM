{
 "cells": [
  {
   "cell_type": "markdown",
   "id": "1b28c8e2",
   "metadata": {},
   "source": [
    "##PA6 Hailey Mueller Version 1 Spring 2023"
   ]
  },
  {
   "cell_type": "code",
   "execution_count": null,
   "id": "35670cf8",
   "metadata": {},
   "outputs": [],
   "source": [
    "import math\n",
    "def calcArea(a,b,c):\n",
    "    s = (a + b + c) / 2\n",
    "    area = math.sqrt(s * (s - a) * (s - b) * (s - b))\n",
    "    return area\n",
    "\n",
    "def calcPerimeter(a,b,c):\n",
    "    return a + b + c\n",
    "a = int(input('Enter the length of side A: '))\n",
    "b = int(input('Enter the length of side B: '))\n",
    "c = int(input('Enter the length of side C: '))\n",
    "\n",
    "area = calcArea(a,b,c)\n",
    "perimeter = calcPerimeter(a,b,c)\n",
    "\n",
    "print(f'The area of the triangle is approximately {area} square units and the perimeter is {perimeter} linear units.')"
   ]
  },
  {
   "cell_type": "code",
   "execution_count": null,
   "id": "cf273078",
   "metadata": {},
   "outputs": [],
   "source": [
    "import random as rd\n",
    "\n",
    "\n",
    "def evaluateGuess():\n",
    "    ran = rd.randrange(1,1000)\n",
    "    guessing = True\n",
    "    count = 0\n",
    "    while guessing:\n",
    "        guess = int(input('Guess a number 1-1000: '))\n",
    "        if guess > ran:\n",
    "            print('Too high! Guess again')\n",
    "        elif guess < ran:\n",
    "            print('Too low! Guess again')\n",
    "        elif guess == ran:\n",
    "            count += 1\n",
    "            print(f'You guessed it in {count} tries')\n",
    "            guessing = False\n",
    "        count += 1\n",
    "evaluateGuess()"
   ]
  },
  {
   "cell_type": "code",
   "execution_count": null,
   "id": "acca4224",
   "metadata": {},
   "outputs": [],
   "source": [
    "def meanTemp(*args):\n",
    "    print(f'The mean temperature for the past {len(args)} days is {sum(args)/len(args)} degrees.')\n",
    "temp = [70,63,74,80,90,89,94]\n",
    "\n",
    "meanTemp(*temp)\n",
    "meanTemp(*temp[4:])\n",
    "meanTemp(*temp[2:])"
   ]
  },
  {
   "cell_type": "code",
   "execution_count": null,
   "id": "acb1f02c",
   "metadata": {},
   "outputs": [],
   "source": []
  }
 ],
 "metadata": {
  "kernelspec": {
   "display_name": "Python 3 (ipykernel)",
   "language": "python",
   "name": "python3"
  },
  "language_info": {
   "codemirror_mode": {
    "name": "ipython",
    "version": 3
   },
   "file_extension": ".py",
   "mimetype": "text/x-python",
   "name": "python",
   "nbconvert_exporter": "python",
   "pygments_lexer": "ipython3",
   "version": "3.9.13"
  }
 },
 "nbformat": 4,
 "nbformat_minor": 5
}
